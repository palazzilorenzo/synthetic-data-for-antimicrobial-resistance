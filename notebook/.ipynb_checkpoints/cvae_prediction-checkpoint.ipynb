{
 "cells": [
  {
   "cell_type": "code",
   "execution_count": 1,
   "id": "dabc1bcf",
   "metadata": {},
   "outputs": [],
   "source": [
    "import sys\n",
    "sys.path.append('../')"
   ]
  },
  {
   "cell_type": "code",
   "execution_count": 2,
   "id": "21b11377",
   "metadata": {},
   "outputs": [
    {
     "name": "stderr",
     "output_type": "stream",
     "text": [
      "2023-12-22 11:09:12.085070: I tensorflow/core/platform/cpu_feature_guard.cc:182] This TensorFlow binary is optimized to use available CPU instructions in performance-critical operations.\n",
      "To enable the following instructions: AVX2 FMA, in other operations, rebuild TensorFlow with the appropriate compiler flags.\n"
     ]
    }
   ],
   "source": [
    "import pandas as pd\n",
    "import numpy as np\n",
    "\n",
    "from docs.create_cvae import Cvae\n",
    "from keras.utils import to_categorical\n",
    "\n",
    "from sklearn.preprocessing import normalize"
   ]
  },
  {
   "cell_type": "code",
   "execution_count": 5,
   "id": "54ccf2e0",
   "metadata": {},
   "outputs": [],
   "source": [
    "# import testing data\n",
    "path_to_test_x = '../CVAE/real_data/test/Escherichia_coli_CVAE_test_x.csv'\n",
    "path_to_test_labels = '../CVAE/real_data/test/Escherichia_coli_CVAE_test_labels.csv'\n",
    "\n",
    "test_x = pd.read_csv(path_to_test_x, sep='\\t', header=0)\n",
    "test_labels = pd.read_csv(path_to_test_labels, sep='\\t', header=0)\n",
    "\n",
    "test = pd.concat([test_x, test_labels], axis=1)"
   ]
  },
  {
   "cell_type": "code",
   "execution_count": 6,
   "id": "5c8dd049",
   "metadata": {},
   "outputs": [],
   "source": [
    "test_x = test_x.drop(['Unnamed: 0'],  axis = 1)\n",
    "#col_x = test_x.columns.values.tolist()\n",
    "\n",
    "test_labels = test_labels.drop(['Unnamed: 0'],  axis = 1)\n",
    "#col_labels = test_labels.columns.values.tolist()\n",
    "\n",
    "test = test.drop(['Unnamed: 0'],  axis = 1)\n",
    "col = test.columns.values.tolist()"
   ]
  },
  {
   "cell_type": "code",
   "execution_count": 7,
   "id": "481a6225",
   "metadata": {},
   "outputs": [],
   "source": [
    "test_labels = to_categorical(test_labels, num_classes=2)"
   ]
  },
  {
   "cell_type": "code",
   "execution_count": 8,
   "id": "22521f8a",
   "metadata": {},
   "outputs": [],
   "source": [
    "n_z = 64 # latent space dimension\n",
    "\n",
    "cvae = Cvae(n_z)\n",
    "cvae.built = True # build model to load weights\n",
    "cvae.load_weights(f'../CVAE/weights/cvae_{n_z}_weights.h5')"
   ]
  },
  {
   "cell_type": "code",
   "execution_count": 9,
   "id": "8cac2174",
   "metadata": {},
   "outputs": [
    {
     "name": "stdout",
     "output_type": "stream",
     "text": [
      "2/2 [==============================] - 0s 35ms/step\n",
      "2/2 [==============================] - 0s 81ms/step\n"
     ]
    }
   ],
   "source": [
    "# prediction\n",
    "encoded = cvae.encoder.predict([test_x, test_labels]) # encode data\n",
    "z_sample = encoded[2]\n",
    "prediction_cvae = cvae.decoder.predict([z_sample, test_labels]) # decode data\n",
    "prediction_cvae = prediction_cvae[:,:,0] "
   ]
  },
  {
   "cell_type": "code",
   "execution_count": 10,
   "id": "e127a8b5",
   "metadata": {},
   "outputs": [],
   "source": [
    "# separate intensity and label values to normalize\n",
    "prediction_cvae_x = prediction_cvae[:,:6000] # intensity\n",
    "prediction_cvae_labels = prediction_cvae[:,-2:] # labels\n",
    "prediction_cvae_labels = np.argmax(prediction_cvae_labels, axis=1) # inverse of 'to_categorical'\n",
    "prediction_cvae_labels = np.expand_dims(prediction_cvae_labels, -1).astype(\"int32\")\n",
    "# normalization\n",
    "prediction_cvae_x_norm = normalize(prediction_cvae_x, norm='l1')\n",
    "# reunite normalized spectra with labels\n",
    "prediction_cvae_norm = np.hstack((prediction_cvae_x_norm, prediction_cvae_labels))\n",
    "df_decoded_norm = pd.DataFrame(prediction_cvae_norm, columns=col)\n",
    "\n",
    "# saving as a CSV file\n",
    "df_decoded_norm.to_csv(f'../CVAE/synthetic_data/prediction_cvae_{n_z}.csv', sep ='\\t')"
   ]
  },
  {
   "cell_type": "markdown",
   "id": "c21811a1",
   "metadata": {},
   "source": [
    "---\n",
    "## Generate only susceptible spectra"
   ]
  },
  {
   "cell_type": "code",
   "execution_count": 16,
   "id": "9476fc1d",
   "metadata": {},
   "outputs": [],
   "source": [
    "test_susc = test.loc[test['Ampicillin'] == 1] # select only susceptible spectra\n",
    "test_x_susc = test_susc.drop(['Ampicillin'], axis = 1) # intensity values\n",
    "test_labels_susc = pd.DataFrame(test_susc['Ampicillin']) # labels"
   ]
  },
  {
   "cell_type": "code",
   "execution_count": 17,
   "id": "f8425ecb",
   "metadata": {},
   "outputs": [],
   "source": [
    "test_labels_susc = to_categorical(test_labels_susc, num_classes=2)"
   ]
  },
  {
   "cell_type": "code",
   "execution_count": 18,
   "id": "f2f01f08",
   "metadata": {},
   "outputs": [
    {
     "name": "stdout",
     "output_type": "stream",
     "text": [
      "1/1 [==============================] - 0s 45ms/step\n",
      "1/1 [==============================] - 0s 78ms/step\n"
     ]
    }
   ],
   "source": [
    "# prediction\n",
    "encoded_susc = cvae.encoder.predict([test_x_susc, test_labels_susc]) # encode data\n",
    "z_sample_susc = encoded_susc[2]\n",
    "prediction_cvae_susc = cvae.decoder.predict([z_sample_susc, test_labels_susc]) # decode data\n",
    "prediction_cvae_susc = prediction_cvae_susc[:,:,0] "
   ]
  },
  {
   "cell_type": "code",
   "execution_count": 19,
   "id": "bed5d488",
   "metadata": {},
   "outputs": [],
   "source": [
    "# separate intensity and label values to normalize\n",
    "prediction_cvae_x_susc = prediction_cvae_susc[:,:6000] # intensity\n",
    "prediction_cvae_labels_susc = prediction_cvae_susc[:,-2:] # labels\n",
    "prediction_cvae_labels_susc = np.argmax(prediction_cvae_labels_susc, axis=1) # inverse of 'to_categorical'\n",
    "prediction_cvae_labels_susc = np.expand_dims(prediction_cvae_labels_susc, -1).astype(\"int32\")\n",
    "# normalization\n",
    "prediction_cvae_x_susc_norm = normalize(prediction_cvae_x_susc, norm='l1')\n",
    "# reunite normalized spectra with labels\n",
    "prediction_cvae_susc_norm = np.hstack((prediction_cvae_x_susc_norm, prediction_cvae_labels_susc))\n",
    "df_decoded_susc_norm = pd.DataFrame(prediction_cvae_susc_norm, columns=col)\n",
    "\n",
    "# saving as a CSV file\n",
    "df_decoded_susc_norm.to_csv(f'../CVAE/synthetic_data/prediction_cvae_{n_z}_susc.csv', sep ='\\t')"
   ]
  },
  {
   "cell_type": "markdown",
   "id": "0f4ea931",
   "metadata": {},
   "source": [
    "---\n",
    "## Generate only resistant spectra"
   ]
  },
  {
   "cell_type": "code",
   "execution_count": 25,
   "id": "6b3e3cb9",
   "metadata": {},
   "outputs": [],
   "source": [
    "test_res = test.loc[test['Ampicillin'] == 0] # select only susceptible spectra\n",
    "test_x_res = test_res.drop(['Ampicillin'], axis = 1) # intensity values\n",
    "test_labels_res = pd.DataFrame(test_res['Ampicillin']) # labels"
   ]
  },
  {
   "cell_type": "code",
   "execution_count": 26,
   "id": "0db891b0",
   "metadata": {},
   "outputs": [],
   "source": [
    "test_labels_res = to_categorical(test_labels_res, num_classes=2)"
   ]
  },
  {
   "cell_type": "code",
   "execution_count": 27,
   "id": "ce4425b9",
   "metadata": {},
   "outputs": [
    {
     "name": "stdout",
     "output_type": "stream",
     "text": [
      "2/2 [==============================] - 0s 8ms/step\n",
      "2/2 [==============================] - 0s 17ms/step\n"
     ]
    }
   ],
   "source": [
    "# prediction\n",
    "encoded_res = cvae.encoder.predict([test_x_res, test_labels_res]) # encode data\n",
    "z_sample_res = encoded_res[2]\n",
    "prediction_cvae_res = cvae.decoder.predict([z_sample_res, test_labels_res]) # decode data\n",
    "prediction_cvae_res = prediction_cvae_res[:,:,0] "
   ]
  },
  {
   "cell_type": "code",
   "execution_count": 28,
   "id": "6336627f",
   "metadata": {},
   "outputs": [],
   "source": [
    "# separate intensity and label values to normalize\n",
    "prediction_cvae_x_res = prediction_cvae_res[:,:6000] # intensity\n",
    "prediction_cvae_labels_res = prediction_cvae_res[:,-2:] # labels\n",
    "prediction_cvae_labels_res = np.argmax(prediction_cvae_labels_res, axis=1) # inverse of 'to_categorical'\n",
    "prediction_cvae_labels_res = np.expand_dims(prediction_cvae_labels_res, -1).astype(\"int32\")\n",
    "# normalization\n",
    "prediction_cvae_x_res_norm = normalize(prediction_cvae_x_res, norm='l1')\n",
    "# reunite normalized spectra with labels\n",
    "prediction_cvae_res_norm = np.hstack((prediction_cvae_x_res_norm, prediction_cvae_labels_res))\n",
    "df_decoded_res_norm = pd.DataFrame(prediction_cvae_res_norm, columns=col)\n",
    "\n",
    "# saving as a CSV file\n",
    "df_decoded_res_norm.to_csv(f'../CVAE/synthetic_data/prediction_cvae_{n_z}_res.csv', sep ='\\t')"
   ]
  },
  {
   "cell_type": "code",
   "execution_count": null,
   "id": "fbc7352b",
   "metadata": {},
   "outputs": [],
   "source": []
  }
 ],
 "metadata": {
  "kernelspec": {
   "display_name": "Python 3 (ipykernel)",
   "language": "python",
   "name": "python3"
  },
  "language_info": {
   "codemirror_mode": {
    "name": "ipython",
    "version": 3
   },
   "file_extension": ".py",
   "mimetype": "text/x-python",
   "name": "python",
   "nbconvert_exporter": "python",
   "pygments_lexer": "ipython3",
   "version": "3.11.5"
  }
 },
 "nbformat": 4,
 "nbformat_minor": 5
}
