{
 "cells": [
  {
   "cell_type": "code",
   "execution_count": 1,
   "id": "8930d59c",
   "metadata": {},
   "outputs": [],
   "source": [
    "import sys\n",
    "sys.path.append('../')"
   ]
  },
  {
   "cell_type": "code",
   "execution_count": 2,
   "id": "07e84e2d",
   "metadata": {},
   "outputs": [
    {
     "name": "stderr",
     "output_type": "stream",
     "text": [
      "2023-12-22 11:11:30.864127: I tensorflow/core/platform/cpu_feature_guard.cc:182] This TensorFlow binary is optimized to use available CPU instructions in performance-critical operations.\n",
      "To enable the following instructions: AVX2 FMA, in other operations, rebuild TensorFlow with the appropriate compiler flags.\n"
     ]
    }
   ],
   "source": [
    "import pandas as pd\n",
    "import numpy as np\n",
    "\n",
    "from docs.create_vae import Vae\n",
    "\n",
    "from sklearn.preprocessing import normalize"
   ]
  },
  {
   "cell_type": "code",
   "execution_count": 3,
   "id": "d33d9eaf",
   "metadata": {},
   "outputs": [
    {
     "data": {
      "text/html": [
       "<div>\n",
       "<style scoped>\n",
       "    .dataframe tbody tr th:only-of-type {\n",
       "        vertical-align: middle;\n",
       "    }\n",
       "\n",
       "    .dataframe tbody tr th {\n",
       "        vertical-align: top;\n",
       "    }\n",
       "\n",
       "    .dataframe thead th {\n",
       "        text-align: right;\n",
       "    }\n",
       "</style>\n",
       "<table border=\"1\" class=\"dataframe\">\n",
       "  <thead>\n",
       "    <tr style=\"text-align: right;\">\n",
       "      <th></th>\n",
       "      <th>Unnamed: 0</th>\n",
       "      <th>2000</th>\n",
       "      <th>2003</th>\n",
       "      <th>2006</th>\n",
       "      <th>2009</th>\n",
       "      <th>2012</th>\n",
       "      <th>2015</th>\n",
       "      <th>2018</th>\n",
       "      <th>2021</th>\n",
       "      <th>2024</th>\n",
       "      <th>...</th>\n",
       "      <th>19970</th>\n",
       "      <th>19973</th>\n",
       "      <th>19976</th>\n",
       "      <th>19979</th>\n",
       "      <th>19982</th>\n",
       "      <th>19985</th>\n",
       "      <th>19988</th>\n",
       "      <th>19991</th>\n",
       "      <th>19994</th>\n",
       "      <th>19997</th>\n",
       "    </tr>\n",
       "  </thead>\n",
       "  <tbody>\n",
       "    <tr>\n",
       "      <th>0</th>\n",
       "      <td>15</td>\n",
       "      <td>0.000257</td>\n",
       "      <td>0.000228</td>\n",
       "      <td>0.000448</td>\n",
       "      <td>0.000307</td>\n",
       "      <td>0.000278</td>\n",
       "      <td>0.000415</td>\n",
       "      <td>0.000155</td>\n",
       "      <td>0.000037</td>\n",
       "      <td>0.000023</td>\n",
       "      <td>...</td>\n",
       "      <td>0.000019</td>\n",
       "      <td>0.000025</td>\n",
       "      <td>0.000013</td>\n",
       "      <td>0.000008</td>\n",
       "      <td>0.000009</td>\n",
       "      <td>0.000042</td>\n",
       "      <td>0.000036</td>\n",
       "      <td>0.000039</td>\n",
       "      <td>0.000039</td>\n",
       "      <td>0.000056</td>\n",
       "    </tr>\n",
       "    <tr>\n",
       "      <th>1</th>\n",
       "      <td>9</td>\n",
       "      <td>0.000118</td>\n",
       "      <td>0.000121</td>\n",
       "      <td>0.000142</td>\n",
       "      <td>0.000303</td>\n",
       "      <td>0.000426</td>\n",
       "      <td>0.000459</td>\n",
       "      <td>0.000314</td>\n",
       "      <td>0.000028</td>\n",
       "      <td>0.000084</td>\n",
       "      <td>...</td>\n",
       "      <td>0.000003</td>\n",
       "      <td>0.000004</td>\n",
       "      <td>0.000008</td>\n",
       "      <td>0.000014</td>\n",
       "      <td>0.000017</td>\n",
       "      <td>0.000017</td>\n",
       "      <td>0.000030</td>\n",
       "      <td>0.000020</td>\n",
       "      <td>0.000022</td>\n",
       "      <td>0.000024</td>\n",
       "    </tr>\n",
       "    <tr>\n",
       "      <th>2</th>\n",
       "      <td>100</td>\n",
       "      <td>0.000323</td>\n",
       "      <td>0.000496</td>\n",
       "      <td>0.000309</td>\n",
       "      <td>0.000247</td>\n",
       "      <td>0.000255</td>\n",
       "      <td>0.000203</td>\n",
       "      <td>0.000245</td>\n",
       "      <td>0.000664</td>\n",
       "      <td>0.001268</td>\n",
       "      <td>...</td>\n",
       "      <td>0.000081</td>\n",
       "      <td>0.000077</td>\n",
       "      <td>0.000081</td>\n",
       "      <td>0.000073</td>\n",
       "      <td>0.000093</td>\n",
       "      <td>0.000056</td>\n",
       "      <td>0.000041</td>\n",
       "      <td>0.000039</td>\n",
       "      <td>0.000036</td>\n",
       "      <td>0.000025</td>\n",
       "    </tr>\n",
       "    <tr>\n",
       "      <th>3</th>\n",
       "      <td>132</td>\n",
       "      <td>0.000098</td>\n",
       "      <td>0.000173</td>\n",
       "      <td>0.000175</td>\n",
       "      <td>0.000161</td>\n",
       "      <td>0.000182</td>\n",
       "      <td>0.000204</td>\n",
       "      <td>0.000267</td>\n",
       "      <td>0.000131</td>\n",
       "      <td>0.000026</td>\n",
       "      <td>...</td>\n",
       "      <td>0.000033</td>\n",
       "      <td>0.000062</td>\n",
       "      <td>0.000050</td>\n",
       "      <td>0.000048</td>\n",
       "      <td>0.000038</td>\n",
       "      <td>0.000047</td>\n",
       "      <td>0.000029</td>\n",
       "      <td>0.000027</td>\n",
       "      <td>0.000043</td>\n",
       "      <td>0.000023</td>\n",
       "    </tr>\n",
       "    <tr>\n",
       "      <th>4</th>\n",
       "      <td>68</td>\n",
       "      <td>0.000066</td>\n",
       "      <td>0.000193</td>\n",
       "      <td>0.000346</td>\n",
       "      <td>0.000171</td>\n",
       "      <td>0.000186</td>\n",
       "      <td>0.000096</td>\n",
       "      <td>0.000056</td>\n",
       "      <td>0.000122</td>\n",
       "      <td>0.000759</td>\n",
       "      <td>...</td>\n",
       "      <td>0.000018</td>\n",
       "      <td>0.000016</td>\n",
       "      <td>0.000019</td>\n",
       "      <td>0.000027</td>\n",
       "      <td>0.000010</td>\n",
       "      <td>0.000012</td>\n",
       "      <td>0.000019</td>\n",
       "      <td>0.000041</td>\n",
       "      <td>0.000030</td>\n",
       "      <td>0.000039</td>\n",
       "    </tr>\n",
       "  </tbody>\n",
       "</table>\n",
       "<p>5 rows × 6001 columns</p>\n",
       "</div>"
      ],
      "text/plain": [
       "   Unnamed: 0      2000      2003      2006      2009      2012      2015  \\\n",
       "0          15  0.000257  0.000228  0.000448  0.000307  0.000278  0.000415   \n",
       "1           9  0.000118  0.000121  0.000142  0.000303  0.000426  0.000459   \n",
       "2         100  0.000323  0.000496  0.000309  0.000247  0.000255  0.000203   \n",
       "3         132  0.000098  0.000173  0.000175  0.000161  0.000182  0.000204   \n",
       "4          68  0.000066  0.000193  0.000346  0.000171  0.000186  0.000096   \n",
       "\n",
       "       2018      2021      2024  ...     19970     19973     19976     19979  \\\n",
       "0  0.000155  0.000037  0.000023  ...  0.000019  0.000025  0.000013  0.000008   \n",
       "1  0.000314  0.000028  0.000084  ...  0.000003  0.000004  0.000008  0.000014   \n",
       "2  0.000245  0.000664  0.001268  ...  0.000081  0.000077  0.000081  0.000073   \n",
       "3  0.000267  0.000131  0.000026  ...  0.000033  0.000062  0.000050  0.000048   \n",
       "4  0.000056  0.000122  0.000759  ...  0.000018  0.000016  0.000019  0.000027   \n",
       "\n",
       "      19982     19985     19988     19991     19994     19997  \n",
       "0  0.000009  0.000042  0.000036  0.000039  0.000039  0.000056  \n",
       "1  0.000017  0.000017  0.000030  0.000020  0.000022  0.000024  \n",
       "2  0.000093  0.000056  0.000041  0.000039  0.000036  0.000025  \n",
       "3  0.000038  0.000047  0.000029  0.000027  0.000043  0.000023  \n",
       "4  0.000010  0.000012  0.000019  0.000041  0.000030  0.000039  \n",
       "\n",
       "[5 rows x 6001 columns]"
      ]
     },
     "execution_count": 3,
     "metadata": {},
     "output_type": "execute_result"
    }
   ],
   "source": [
    "# import testing data\n",
    "path_to_data = '../VAE/real_data/test/Escherichia_coli_VAE_test'\n",
    "extension = '.csv'\n",
    "\n",
    "df_test = pd.read_csv(path_to_data + extension, sep='\\t', header=0)\n",
    "df_test.head()"
   ]
  },
  {
   "cell_type": "code",
   "execution_count": 14,
   "id": "9d5e3363",
   "metadata": {},
   "outputs": [
    {
     "data": {
      "text/plain": [
       "(52, 6000)"
      ]
     },
     "execution_count": 14,
     "metadata": {},
     "output_type": "execute_result"
    }
   ],
   "source": [
    "# Remove the 'Unnamed: 0' column that will be obsolete for our purpose\n",
    "\n",
    "df_test = df_test.drop(['Unnamed: 0'],  axis = 1)\n",
    "df_test.shape"
   ]
  },
  {
   "cell_type": "code",
   "execution_count": 15,
   "id": "a8271e1a",
   "metadata": {},
   "outputs": [],
   "source": [
    "# get the list of all columns that will be needed later\n",
    "\n",
    "col = df_test.columns.values.tolist()"
   ]
  },
  {
   "cell_type": "code",
   "execution_count": 16,
   "id": "4d38ce37",
   "metadata": {},
   "outputs": [
    {
     "name": "stdout",
     "output_type": "stream",
     "text": [
      "(52, 6000, 1)\n"
     ]
    }
   ],
   "source": [
    "# preparing data to predict\n",
    "\n",
    "test = df_test.to_numpy()\n",
    "\n",
    "test = np.expand_dims(test, -1).astype(\"float32\")\n",
    "print(test.shape)"
   ]
  },
  {
   "cell_type": "markdown",
   "id": "a716f3a6",
   "metadata": {},
   "source": [
    "Build model and load weights."
   ]
  },
  {
   "cell_type": "code",
   "execution_count": 17,
   "id": "79257753",
   "metadata": {},
   "outputs": [],
   "source": [
    "vae_2 = Vae(2)\n",
    "vae_2.built = True\n",
    "vae_2.load_weights('../VAE/weights/vae_2_weights.h5')\n",
    "\n",
    "vae_4 = Vae(4)\n",
    "vae_4.built = True\n",
    "vae_4.load_weights('../VAE/weights/vae_4_weights.h5')\n",
    "\n",
    "vae_8 = Vae(8)\n",
    "vae_8.built = True\n",
    "vae_8.load_weights('../VAE/weights/vae_8_weights.h5')\n",
    "\n",
    "vae_16 = Vae(16)\n",
    "vae_16.built = True\n",
    "vae_16.load_weights('../VAE/weights/vae_16_weights.h5')\n",
    "\n",
    "vae_32 = Vae(32)\n",
    "vae_32.built = True\n",
    "vae_32.load_weights('../VAE/weights/vae_32_weights.h5')\n",
    "\n",
    "vae_64 = Vae(64)\n",
    "vae_64.built = True\n",
    "vae_64.load_weights('../VAE/weights/vae_64_weights.h5')"
   ]
  },
  {
   "cell_type": "code",
   "execution_count": 18,
   "id": "837fce4f",
   "metadata": {},
   "outputs": [
    {
     "name": "stdout",
     "output_type": "stream",
     "text": [
      "2/2 [==============================] - 0s 18ms/step\n",
      "2/2 [==============================] - 0s 66ms/step\n"
     ]
    }
   ],
   "source": [
    "# Prediction with VAE_2\n",
    "encoded_2 = vae_2.encoder.predict(test)[-1]\n",
    "prediction_vae_2 = vae_2.decoder.predict(encoded_2)\n",
    "prediction_vae_2 = prediction_vae_2.reshape(52, 6000)\n",
    "\n",
    "# normalization\n",
    "prediction_vae_2 = normalize(prediction_vae_2, norm='l1')\n",
    "df_prediction_vae_2 = pd.DataFrame(prediction_vae_2, columns=col)\n",
    "\n",
    "# saving as a CSV file\n",
    "df_prediction_vae_2.to_csv('../VAE/synthetic_data/prediction_vae_2.csv', sep ='\\t')"
   ]
  },
  {
   "cell_type": "code",
   "execution_count": 46,
   "id": "ad0c93d5",
   "metadata": {},
   "outputs": [
    {
     "name": "stdout",
     "output_type": "stream",
     "text": [
      "2/2 [==============================] - 0s 19ms/step\n",
      "2/2 [==============================] - 0s 85ms/step\n"
     ]
    }
   ],
   "source": [
    "# Prediction with VAE_4\n",
    "encoded_4 = vae_4.encoder.predict(test)[-1]\n",
    "prediction_vae_4 = vae_4.decoder.predict(encoded_4)\n",
    "prediction_vae_4 = prediction_vae_4.reshape(52, 6000)\n",
    "\n",
    "# normalization\n",
    "prediction_vae_4 = normalize(prediction_vae_4, norm='l1')\n",
    "df_prediction_vae_4 = pd.DataFrame(prediction_vae_4, columns=col)\n",
    "\n",
    "# saving as a CSV file\n",
    "df_prediction_vae_4.to_csv('../VAE/synthetic_data/prediction_vae_4.csv', sep ='\\t')"
   ]
  },
  {
   "cell_type": "code",
   "execution_count": 47,
   "id": "96cd00dd",
   "metadata": {},
   "outputs": [
    {
     "name": "stdout",
     "output_type": "stream",
     "text": [
      "2/2 [==============================] - 0s 18ms/step\n",
      "2/2 [==============================] - 0s 79ms/step\n"
     ]
    }
   ],
   "source": [
    "# Prediction with VAE_8\n",
    "encoded_8 = vae_8.encoder.predict(test)[-1]\n",
    "prediction_vae_8 = vae_8.decoder.predict(encoded_8)\n",
    "prediction_vae_8 = prediction_vae_8.reshape(52, 6000)\n",
    "\n",
    "# normalization\n",
    "prediction_vae_8 = normalize(prediction_vae_8, norm='l1')\n",
    "df_prediction_vae_8 = pd.DataFrame(prediction_vae_8, columns=col)\n",
    "\n",
    "# saving as a CSV file\n",
    "df_prediction_vae_8.to_csv('../VAE/synthetic_data/prediction_vae_8.csv', sep ='\\t')"
   ]
  },
  {
   "cell_type": "code",
   "execution_count": 48,
   "id": "d8248cf0",
   "metadata": {},
   "outputs": [
    {
     "name": "stdout",
     "output_type": "stream",
     "text": [
      "2/2 [==============================] - 0s 17ms/step\n",
      "2/2 [==============================] - 0s 62ms/step\n"
     ]
    }
   ],
   "source": [
    "# Prediction with VAE_16\n",
    "encoded_16 = vae_16.encoder.predict(test)[-1]\n",
    "prediction_vae_16 = vae_16.decoder.predict(encoded_16)\n",
    "prediction_vae_16 = prediction_vae_16.reshape(52, 6000)\n",
    "\n",
    "# normalization\n",
    "prediction_vae_16 = normalize(prediction_vae_16, norm='l1')\n",
    "df_prediction_vae_16 = pd.DataFrame(prediction_vae_16, columns=col)\n",
    "\n",
    "# saving as a CSV file\n",
    "df_prediction_vae_16.to_csv('../VAE/synthetic_data/prediction_vae_16.csv', sep ='\\t')"
   ]
  },
  {
   "cell_type": "code",
   "execution_count": 49,
   "id": "af7b59c0",
   "metadata": {},
   "outputs": [
    {
     "name": "stdout",
     "output_type": "stream",
     "text": [
      "2/2 [==============================] - 0s 16ms/step\n",
      "2/2 [==============================] - 0s 92ms/step\n"
     ]
    }
   ],
   "source": [
    "# Prediction with VAE_32\n",
    "encoded_32 = vae_32.encoder.predict(test)[-1]\n",
    "prediction_vae_32 = vae_32.decoder.predict(encoded_32)\n",
    "prediction_vae_32 = prediction_vae_32.reshape(52, 6000)\n",
    "\n",
    "# normalization\n",
    "prediction_vae_32 = normalize(prediction_vae_32, norm='l1')\n",
    "df_prediction_vae_32 = pd.DataFrame(prediction_vae_32, columns=col)\n",
    "\n",
    "# saving as a CSV file\n",
    "df_prediction_vae_32.to_csv('../VAE/synthetic_data/prediction_vae_32.csv', sep ='\\t')"
   ]
  },
  {
   "cell_type": "code",
   "execution_count": 50,
   "id": "b560f44e",
   "metadata": {},
   "outputs": [
    {
     "name": "stdout",
     "output_type": "stream",
     "text": [
      "2/2 [==============================] - 0s 19ms/step\n",
      "2/2 [==============================] - 0s 63ms/step\n"
     ]
    }
   ],
   "source": [
    "# Prediction with VAE_64\n",
    "encoded_64 = vae_64.encoder.predict(test)[-1]\n",
    "prediction_vae_64 = vae_64.decoder.predict(encoded_64)\n",
    "prediction_vae_64 = prediction_vae_64.reshape(52, 6000)\n",
    "\n",
    "# normalization\n",
    "prediction_vae_64 = normalize(prediction_vae_64, norm='l1')\n",
    "df_prediction_vae_64 = pd.DataFrame(prediction_vae_64, columns=col)\n",
    "\n",
    "# saving as a CSV file\n",
    "df_prediction_vae_64.to_csv('../VAE/synthetic_data/prediction_vae_64.csv', sep ='\\t')"
   ]
  },
  {
   "cell_type": "code",
   "execution_count": null,
   "id": "0b7a6b79",
   "metadata": {},
   "outputs": [],
   "source": []
  }
 ],
 "metadata": {
  "kernelspec": {
   "display_name": "Python 3 (ipykernel)",
   "language": "python",
   "name": "python3"
  },
  "language_info": {
   "codemirror_mode": {
    "name": "ipython",
    "version": 3
   },
   "file_extension": ".py",
   "mimetype": "text/x-python",
   "name": "python",
   "nbconvert_exporter": "python",
   "pygments_lexer": "ipython3",
   "version": "3.11.5"
  }
 },
 "nbformat": 4,
 "nbformat_minor": 5
}
